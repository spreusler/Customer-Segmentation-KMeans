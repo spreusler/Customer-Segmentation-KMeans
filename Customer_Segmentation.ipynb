{
  "nbformat": 4,
  "nbformat_minor": 0,
  "metadata": {
    "colab": {
      "name": "Customer-Segmentation.ipynb",
      "version": "0.3.2",
      "provenance": [],
      "collapsed_sections": []
    },
    "kernelspec": {
      "name": "python3",
      "display_name": "Python 3"
    }
  },
  "cells": [
    {
      "cell_type": "markdown",
      "metadata": {
        "id": "cb9SbmLv4hmJ",
        "colab_type": "text"
      },
      "source": [
        "# Anwendungsfall: Segmentierung von Kunden einer Shopping Mall"
      ]
    },
    {
      "cell_type": "markdown",
      "metadata": {
        "id": "L8zfbS7BC1n7",
        "colab_type": "text"
      },
      "source": [
        "### Problemstellung\n",
        "Sie sind Inhaber eines Einkaufszentrums und sammeln anhand eines Kundenprogramms Informationen über Einkäufe, Alter, Geschlecht und Kaufkraft der Besucher.\n",
        "\n",
        "### Zielformulierung\n",
        "Ziel dieses Projektes ist es, die Kunden besser zu verstehen und zu segmentieren. Dadurch erhoffen Sie sich eine gezieltere Ansprache und Nutzung von Werbekanälen.\n",
        "\n",
        "### Offene Fragen\n",
        "1.   Wie ist das Verhältnis von männlichen zu weiblichen Kunden?\n",
        "2.   Unterscheiden sich die Kaufkraft und das Kaufverhalten?\n",
        "3.   Existieren unterschiedliche Verhaltensweisen je nach Lebensalter?\n",
        "4.   Wie können Kunden möglichst gut segmentiert werden?\n",
        "5.   Ist es durch PCA oder Normalisierung der Daten möglich, die Segmentierung zu optimieren?\n",
        "\n"
      ]
    },
    {
      "cell_type": "markdown",
      "metadata": {
        "id": "v9CIIQSnDPH9",
        "colab_type": "text"
      },
      "source": [
        "## Übersicht\n",
        "\n",
        "Dieses Notebook bietet ein Überblick über die Möglichkeiten der Kundensegmentierung mittels KMeans.\n",
        "\n",
        "### 1.   Import der Bibliotheken\n",
        "### 2.   Laden der Daten\n",
        "### 3.   Explorative Datenanalyse (EDA)\n",
        "### 4.   KMeans Implementierung und Optimierung\n",
        "### 5.   Fazit\n",
        "\n"
      ]
    },
    {
      "cell_type": "markdown",
      "metadata": {
        "id": "JF_Pc4eqDHVy",
        "colab_type": "text"
      },
      "source": [
        "### 1 Import der Bibliotheken"
      ]
    },
    {
      "cell_type": "code",
      "metadata": {
        "id": "K23o188mRp1f",
        "colab_type": "code",
        "colab": {}
      },
      "source": [
        "import numpy as np\n",
        "import pandas as pd \n",
        "import matplotlib.pyplot as plt\n",
        "import matplotlib.cm as cm\n",
        "import seaborn as sns\n",
        "from sklearn.preprocessing import LabelEncoder, StandardScaler, MinMaxScaler, RobustScaler, Normalizer\n",
        "from sklearn.decomposition import PCA # Principial Component Analysis\n",
        "from sklearn.cluster import KMeans # K-Means Clustering\n",
        "from sklearn.metrics import silhouette_samples, silhouette_score # Silhouette\n",
        "\n",
        "%matplotlib inline"
      ],
      "execution_count": 0,
      "outputs": []
    },
    {
      "cell_type": "markdown",
      "metadata": {
        "id": "13TGJjF3D5Ue",
        "colab_type": "text"
      },
      "source": [
        "### 2 Laden der Daten"
      ]
    },
    {
      "cell_type": "code",
      "metadata": {
        "id": "5JYuvv98z-69",
        "colab_type": "code",
        "colab": {}
      },
      "source": [
        "def read_csv(source):\n",
        "  '''Read data from source'''\n",
        "  return pd.read_csv(source)"
      ],
      "execution_count": 0,
      "outputs": []
    },
    {
      "cell_type": "code",
      "metadata": {
        "id": "QnR_KklYRYE2",
        "colab_type": "code",
        "colab": {}
      },
      "source": [
        "source = read_csv(\"https://mall-customers.s3-eu-west-1.amazonaws.com/Mall_Customers.csv\")"
      ],
      "execution_count": 0,
      "outputs": []
    },
    {
      "cell_type": "code",
      "metadata": {
        "id": "2NAxF0kAR-8x",
        "colab_type": "code",
        "outputId": "1b267a32-d720-47ad-eecc-8bfd752f609f",
        "colab": {
          "base_uri": "https://localhost:8080/",
          "height": 199
        }
      },
      "source": [
        "source.info()"
      ],
      "execution_count": 0,
      "outputs": [
        {
          "output_type": "stream",
          "text": [
            "<class 'pandas.core.frame.DataFrame'>\n",
            "RangeIndex: 200 entries, 0 to 199\n",
            "Data columns (total 5 columns):\n",
            "CustomerID                200 non-null int64\n",
            "Genre                     200 non-null object\n",
            "Age                       200 non-null int64\n",
            "Annual Income (k$)        200 non-null int64\n",
            "Spending Score (1-100)    200 non-null int64\n",
            "dtypes: int64(4), object(1)\n",
            "memory usage: 7.9+ KB\n"
          ],
          "name": "stdout"
        }
      ]
    },
    {
      "cell_type": "markdown",
      "metadata": {
        "id": "r3uNhK-BE59t",
        "colab_type": "text"
      },
      "source": [
        "### 2.1 Optimierungen und Transformationen"
      ]
    },
    {
      "cell_type": "code",
      "metadata": {
        "id": "t8TeID3oSvlb",
        "colab_type": "code",
        "colab": {}
      },
      "source": [
        "# Rename columns for easier use and correct misspelling\n",
        "source.rename(columns={'Genre':'Gender',\n",
        "                   'Annual Income (k$)':'Annual_Income',\n",
        "                   'Spending Score (1-100)':'Spending_Score'\n",
        "                  }, \n",
        "                   inplace=True\n",
        "          )"
      ],
      "execution_count": 0,
      "outputs": []
    },
    {
      "cell_type": "code",
      "metadata": {
        "id": "SsvvZgRJ0hRa",
        "colab_type": "code",
        "colab": {}
      },
      "source": [
        "# Remove irrelevant Customer ID\n",
        "df = source[['Gender','Age','Annual_Income','Spending_Score']]"
      ],
      "execution_count": 0,
      "outputs": []
    },
    {
      "cell_type": "code",
      "metadata": {
        "id": "n9sQ-ghW1u1K",
        "colab_type": "code",
        "outputId": "64a27d57-2f8a-4b92-f314-07a00be791b3",
        "colab": {
          "base_uri": "https://localhost:8080/",
          "height": 181
        }
      },
      "source": [
        "# Show adjusted dataframe \n",
        "df.info()"
      ],
      "execution_count": 0,
      "outputs": [
        {
          "output_type": "stream",
          "text": [
            "<class 'pandas.core.frame.DataFrame'>\n",
            "RangeIndex: 200 entries, 0 to 199\n",
            "Data columns (total 4 columns):\n",
            "Gender            200 non-null object\n",
            "Age               200 non-null int64\n",
            "Annual_Income     200 non-null int64\n",
            "Spending_Score    200 non-null int64\n",
            "dtypes: int64(3), object(1)\n",
            "memory usage: 6.3+ KB\n"
          ],
          "name": "stdout"
        }
      ]
    },
    {
      "cell_type": "markdown",
      "metadata": {
        "id": "uJtv1DINFC1G",
        "colab_type": "text"
      },
      "source": [
        "### 2.2 Überprüfung auf fehlerhafte Einträge"
      ]
    },
    {
      "cell_type": "code",
      "metadata": {
        "id": "EfSoalzbKlCB",
        "colab_type": "code",
        "colab": {}
      },
      "source": [
        "def show_missing_values(dataframe):\n",
        "  '''Show missing values in columns'''\n",
        "  return dataframe.isnull().sum()"
      ],
      "execution_count": 0,
      "outputs": []
    },
    {
      "cell_type": "code",
      "metadata": {
        "id": "96onOMO1LRkF",
        "colab_type": "code",
        "outputId": "bee47aed-0122-4b8b-c83e-36bb6bda3711",
        "colab": {
          "base_uri": "https://localhost:8080/",
          "height": 108
        }
      },
      "source": [
        "show_missing_values(df)"
      ],
      "execution_count": 0,
      "outputs": [
        {
          "output_type": "execute_result",
          "data": {
            "text/plain": [
              "Gender            0\n",
              "Age               0\n",
              "Annual_Income     0\n",
              "Spending_Score    0\n",
              "dtype: int64"
            ]
          },
          "metadata": {
            "tags": []
          },
          "execution_count": 9
        }
      ]
    },
    {
      "cell_type": "markdown",
      "metadata": {
        "id": "GFFumfkoFQ4G",
        "colab_type": "text"
      },
      "source": [
        "### 3 Explorative Datenanalyse (EDA)"
      ]
    },
    {
      "cell_type": "markdown",
      "metadata": {
        "id": "FWVxjCH3F108",
        "colab_type": "text"
      },
      "source": [
        "### 3.1 Univariate Analyse"
      ]
    },
    {
      "cell_type": "code",
      "metadata": {
        "id": "fYp9bo2TKa3h",
        "colab_type": "code",
        "outputId": "557cf26a-435e-4e98-e874-b4264464a391",
        "colab": {
          "base_uri": "https://localhost:8080/",
          "height": 288
        }
      },
      "source": [
        "# Describe columns\n",
        "df.describe()"
      ],
      "execution_count": 0,
      "outputs": [
        {
          "output_type": "execute_result",
          "data": {
            "text/html": [
              "<div>\n",
              "<style scoped>\n",
              "    .dataframe tbody tr th:only-of-type {\n",
              "        vertical-align: middle;\n",
              "    }\n",
              "\n",
              "    .dataframe tbody tr th {\n",
              "        vertical-align: top;\n",
              "    }\n",
              "\n",
              "    .dataframe thead th {\n",
              "        text-align: right;\n",
              "    }\n",
              "</style>\n",
              "<table border=\"1\" class=\"dataframe\">\n",
              "  <thead>\n",
              "    <tr style=\"text-align: right;\">\n",
              "      <th></th>\n",
              "      <th>Age</th>\n",
              "      <th>Annual_Income</th>\n",
              "      <th>Spending_Score</th>\n",
              "    </tr>\n",
              "  </thead>\n",
              "  <tbody>\n",
              "    <tr>\n",
              "      <th>count</th>\n",
              "      <td>200.000000</td>\n",
              "      <td>200.000000</td>\n",
              "      <td>200.000000</td>\n",
              "    </tr>\n",
              "    <tr>\n",
              "      <th>mean</th>\n",
              "      <td>38.850000</td>\n",
              "      <td>60.560000</td>\n",
              "      <td>50.200000</td>\n",
              "    </tr>\n",
              "    <tr>\n",
              "      <th>std</th>\n",
              "      <td>13.969007</td>\n",
              "      <td>26.264721</td>\n",
              "      <td>25.823522</td>\n",
              "    </tr>\n",
              "    <tr>\n",
              "      <th>min</th>\n",
              "      <td>18.000000</td>\n",
              "      <td>15.000000</td>\n",
              "      <td>1.000000</td>\n",
              "    </tr>\n",
              "    <tr>\n",
              "      <th>25%</th>\n",
              "      <td>28.750000</td>\n",
              "      <td>41.500000</td>\n",
              "      <td>34.750000</td>\n",
              "    </tr>\n",
              "    <tr>\n",
              "      <th>50%</th>\n",
              "      <td>36.000000</td>\n",
              "      <td>61.500000</td>\n",
              "      <td>50.000000</td>\n",
              "    </tr>\n",
              "    <tr>\n",
              "      <th>75%</th>\n",
              "      <td>49.000000</td>\n",
              "      <td>78.000000</td>\n",
              "      <td>73.000000</td>\n",
              "    </tr>\n",
              "    <tr>\n",
              "      <th>max</th>\n",
              "      <td>70.000000</td>\n",
              "      <td>137.000000</td>\n",
              "      <td>99.000000</td>\n",
              "    </tr>\n",
              "  </tbody>\n",
              "</table>\n",
              "</div>"
            ],
            "text/plain": [
              "              Age  Annual_Income  Spending_Score\n",
              "count  200.000000     200.000000      200.000000\n",
              "mean    38.850000      60.560000       50.200000\n",
              "std     13.969007      26.264721       25.823522\n",
              "min     18.000000      15.000000        1.000000\n",
              "25%     28.750000      41.500000       34.750000\n",
              "50%     36.000000      61.500000       50.000000\n",
              "75%     49.000000      78.000000       73.000000\n",
              "max     70.000000     137.000000       99.000000"
            ]
          },
          "metadata": {
            "tags": []
          },
          "execution_count": 10
        }
      ]
    },
    {
      "cell_type": "code",
      "metadata": {
        "id": "rrsGyi4dAoDD",
        "colab_type": "code",
        "colab": {}
      },
      "source": [
        "# Show Male / Female distribution\n",
        "def show_count_plot(dataframe,column):\n",
        "  '''Show Count Plot. Requires column name as string'''\n",
        "  plt.figure(1 , figsize = (15 , 5))\n",
        "  sns.countplot(y = column , data = df)\n",
        "  return plt.show()"
      ],
      "execution_count": 0,
      "outputs": []
    },
    {
      "cell_type": "code",
      "metadata": {
        "id": "1NR0gVp1BMR1",
        "colab_type": "code",
        "outputId": "890b56f0-ac21-43e7-914e-5a27f91a0f62",
        "colab": {
          "base_uri": "https://localhost:8080/",
          "height": 337
        }
      },
      "source": [
        "show_count_plot(df,'Gender')"
      ],
      "execution_count": 0,
      "outputs": [
        {
          "output_type": "display_data",
          "data": {
            "image/png": "[encoded data removed]",
            "text/plain": [
              "<Figure size 1080x360 with 1 Axes>"
            ]
          },
          "metadata": {
            "tags": []
          }
        }
      ]
    },
    {
      "cell_type": "markdown",
      "metadata": {
        "id": "j6SFgFXY7H32",
        "colab_type": "text"
      },
      "source": [
        "Der Datensatz beinhaltet mehr Frauen als Männer."
      ]
    },
    {
      "cell_type": "code",
      "metadata": {
        "id": "pH-z84zLKstp",
        "colab_type": "code",
        "colab": {}
      },
      "source": [
        "# Distribution plot\n",
        "def show_distribution_plot(dataframe,list):\n",
        "  plt.figure(1 , figsize = (15 , 6))\n",
        "  n = 0 \n",
        "  for x in list:\n",
        "    n += 1\n",
        "    plt.subplot(1 , 3 , n)\n",
        "    plt.subplots_adjust(hspace =0.5 , wspace = 0.5)\n",
        "    sns.distplot(dataframe[x] , bins = 20)\n",
        "    plt.title('Distribution plot of {}'.format(x))\n",
        "  return plt.show()"
      ],
      "execution_count": 0,
      "outputs": []
    },
    {
      "cell_type": "code",
      "metadata": {
        "id": "VX8DECWf2By7",
        "colab_type": "code",
        "outputId": "5b9fea36-32c9-4ac2-db79-f1db256ebe1d",
        "colab": {
          "base_uri": "https://localhost:8080/",
          "height": 405
        }
      },
      "source": [
        "show_distribution_plot(df,['Age', 'Annual_Income', 'Spending_Score'])"
      ],
      "execution_count": 0,
      "outputs": [
        {
          "output_type": "display_data",
          "data": {
            "image/png": "[encoded data removed]",
            "text/plain": [
              "<Figure size 1080x432 with 3 Axes>"
            ]
          },
          "metadata": {
            "tags": []
          }
        }
      ]
    },
    {
      "cell_type": "markdown",
      "metadata": {
        "id": "u5SL6nZn7aLK",
        "colab_type": "text"
      },
      "source": [
        "Der Median des Alters liegt bei ca. 39 Jahren. Das Medianeinkommen beträgt etwa 60.000 US-Dollar pro Jahr."
      ]
    },
    {
      "cell_type": "markdown",
      "metadata": {
        "id": "4f4ORs3-GFxL",
        "colab_type": "text"
      },
      "source": [
        "### 3.2 Multivariate Analyse"
      ]
    },
    {
      "cell_type": "code",
      "metadata": {
        "id": "qgyEckTpBmiV",
        "colab_type": "code",
        "colab": {}
      },
      "source": [
        "# Swarm Plot\n",
        "def show_swarm_plot(dataframe,list):\n",
        "  plt.figure(1 , figsize = (15 , 7))\n",
        "  n = 0 \n",
        "  for cols in list:\n",
        "    n += 1 \n",
        "    plt.subplot(1 , 3 , n)\n",
        "    plt.subplots_adjust(hspace = 0.5 , wspace = 0.5)\n",
        "    sns.violinplot(x = cols , y = 'Gender' , data = dataframe , palette = 'vlag')\n",
        "    sns.swarmplot(x = cols , y = 'Gender' , data = dataframe)\n",
        "    plt.ylabel('Gender' if n == 1 else '')\n",
        "    plt.title('Age, Annual Income and Spending Score for Male and Female' if n == 2 else '')\n",
        "  return plt.show()"
      ],
      "execution_count": 0,
      "outputs": []
    },
    {
      "cell_type": "code",
      "metadata": {
        "id": "hQXff3UZC62m",
        "colab_type": "code",
        "outputId": "bd524fbe-09ed-4ada-9121-85ec60133e6f",
        "colab": {
          "base_uri": "https://localhost:8080/",
          "height": 459
        }
      },
      "source": [
        "# Show distribution of Age, Annual Income and Spending Score differenced for Male and Female\n",
        "show_swarm_plot(df,['Age' , 'Annual_Income' , 'Spending_Score'])"
      ],
      "execution_count": 0,
      "outputs": [
        {
          "output_type": "display_data",
          "data": {
            "image/png": "[encoded data removed]",
            "text/plain": [
              "<Figure size 1080x504 with 3 Axes>"
            ]
          },
          "metadata": {
            "tags": []
          }
        }
      ]
    },
    {
      "cell_type": "markdown",
      "metadata": {
        "id": "6ilFU6h0HF_o",
        "colab_type": "text"
      },
      "source": [
        "### 4 KMeans"
      ]
    },
    {
      "cell_type": "markdown",
      "metadata": {
        "id": "e0paOMqXHJcj",
        "colab_type": "text"
      },
      "source": [
        "### 4.1 Erforderliche Transformationen"
      ]
    },
    {
      "cell_type": "code",
      "metadata": {
        "id": "xD4NCkgKtcEw",
        "colab_type": "code",
        "colab": {}
      },
      "source": [
        "# Encode gender for KMeans: String to 1/0\n",
        "def encode(dataframe,column_name):\n",
        "  '''Encodes column'''\n",
        "  encode = LabelEncoder()\n",
        "  encoded_array = encode.fit_transform(dataframe[column_name])\n",
        "  return encoded_array"
      ],
      "execution_count": 0,
      "outputs": []
    },
    {
      "cell_type": "code",
      "metadata": {
        "id": "zHs2ytMQuTb9",
        "colab_type": "code",
        "colab": {}
      },
      "source": [
        "# Decode gender\n",
        "def decode(dataframe,column_name):\n",
        "  encode = LabelEncoder()\n",
        "  encoded_array = encode.fit_transform(dataframe[column_name])\n",
        "  decoded_array = encode.inverse_transform(encoded_array)\n",
        "  return decoded_array"
      ],
      "execution_count": 0,
      "outputs": []
    },
    {
      "cell_type": "code",
      "metadata": {
        "id": "b7qdlQNgwOSX",
        "colab_type": "code",
        "colab": {}
      },
      "source": [
        "# Append 'Gender_Transformation' to Dataframe\n",
        "df['Gender_Transformation']= encode(df,'Gender')"
      ],
      "execution_count": 0,
      "outputs": []
    },
    {
      "cell_type": "code",
      "metadata": {
        "id": "fdbAk5Ymwa-7",
        "colab_type": "code",
        "colab": {}
      },
      "source": [
        "# Remove original column 'Gender'\n",
        "df = df[['Age','Annual_Income','Spending_Score','Gender_Transformation']]"
      ],
      "execution_count": 0,
      "outputs": []
    },
    {
      "cell_type": "code",
      "metadata": {
        "id": "lpM3p05LyzoQ",
        "colab_type": "code",
        "outputId": "b22123c8-3c89-4299-ccf9-fcb115172074",
        "colab": {
          "base_uri": "https://localhost:8080/",
          "height": 198
        }
      },
      "source": [
        "# Show first five rows of new dataframe\n",
        "df.head(5)"
      ],
      "execution_count": 0,
      "outputs": [
        {
          "output_type": "execute_result",
          "data": {
            "text/html": [
              "<div>\n",
              "<style scoped>\n",
              "    .dataframe tbody tr th:only-of-type {\n",
              "        vertical-align: middle;\n",
              "    }\n",
              "\n",
              "    .dataframe tbody tr th {\n",
              "        vertical-align: top;\n",
              "    }\n",
              "\n",
              "    .dataframe thead th {\n",
              "        text-align: right;\n",
              "    }\n",
              "</style>\n",
              "<table border=\"1\" class=\"dataframe\">\n",
              "  <thead>\n",
              "    <tr style=\"text-align: right;\">\n",
              "      <th></th>\n",
              "      <th>Age</th>\n",
              "      <th>Annual_Income</th>\n",
              "      <th>Spending_Score</th>\n",
              "      <th>Gender_Transformation</th>\n",
              "    </tr>\n",
              "  </thead>\n",
              "  <tbody>\n",
              "    <tr>\n",
              "      <th>0</th>\n",
              "      <td>19</td>\n",
              "      <td>15</td>\n",
              "      <td>39</td>\n",
              "      <td>1</td>\n",
              "    </tr>\n",
              "    <tr>\n",
              "      <th>1</th>\n",
              "      <td>21</td>\n",
              "      <td>15</td>\n",
              "      <td>81</td>\n",
              "      <td>1</td>\n",
              "    </tr>\n",
              "    <tr>\n",
              "      <th>2</th>\n",
              "      <td>20</td>\n",
              "      <td>16</td>\n",
              "      <td>6</td>\n",
              "      <td>0</td>\n",
              "    </tr>\n",
              "    <tr>\n",
              "      <th>3</th>\n",
              "      <td>23</td>\n",
              "      <td>16</td>\n",
              "      <td>77</td>\n",
              "      <td>0</td>\n",
              "    </tr>\n",
              "    <tr>\n",
              "      <th>4</th>\n",
              "      <td>31</td>\n",
              "      <td>17</td>\n",
              "      <td>40</td>\n",
              "      <td>0</td>\n",
              "    </tr>\n",
              "  </tbody>\n",
              "</table>\n",
              "</div>"
            ],
            "text/plain": [
              "   Age  Annual_Income  Spending_Score  Gender_Transformation\n",
              "0   19             15              39                      1\n",
              "1   21             15              81                      1\n",
              "2   20             16               6                      0\n",
              "3   23             16              77                      0\n",
              "4   31             17              40                      0"
            ]
          },
          "metadata": {
            "tags": []
          },
          "execution_count": 51
        }
      ]
    },
    {
      "cell_type": "markdown",
      "metadata": {
        "id": "-kdrsRE-IUyb",
        "colab_type": "text"
      },
      "source": [
        "### 4.2 Ermittlung der Anzahl an Clustern"
      ]
    },
    {
      "cell_type": "markdown",
      "metadata": {
        "id": "mhh3DcrMIoV5",
        "colab_type": "text"
      },
      "source": [
        "### 4.2.1 Ellbogen Methode"
      ]
    },
    {
      "cell_type": "code",
      "metadata": {
        "id": "L51fzBnKUHv6",
        "colab_type": "code",
        "colab": {}
      },
      "source": [
        "# Further information: https://bl.ocks.org/rpgove/0060ff3b656618e9136b\n",
        "def show_elbow_method(dataframe):\n",
        "  '''Simple elbow method implementation'''\n",
        "  distortions = []\n",
        "  range_n_clusters = range(1, 10)\n",
        "  for n_clusters in range_n_clusters:\n",
        "    km = KMeans(n_clusters = n_clusters, init = 'k-means++', random_state = 23)\n",
        "    km.fit(dataframe)\n",
        "    distortions.append(km.inertia_)\n",
        "  plt.plot(range_n_clusters, distortions)\n",
        "  plt.title(\"Elbow Method\")\n",
        "  plt.xlabel(\"Number of Clusters\")\n",
        "  plt.ylabel(\"Sum Squared Error (SSE)\")\n",
        "  return plt.show()"
      ],
      "execution_count": 0,
      "outputs": []
    },
    {
      "cell_type": "code",
      "metadata": {
        "id": "HB-5Rg2UJS9o",
        "colab_type": "code",
        "outputId": "35a82b20-14cf-4b3b-f260-ed0b550aa5b6",
        "colab": {
          "base_uri": "https://localhost:8080/",
          "height": 295
        }
      },
      "source": [
        "show_elbow_method(df)"
      ],
      "execution_count": 0,
      "outputs": [
        {
          "output_type": "display_data",
          "data": {
            "image/png": "[encoded data removed]",
            "text/plain": [
              "<Figure size 432x288 with 1 Axes>"
            ]
          },
          "metadata": {
            "tags": []
          }
        }
      ]
    },
    {
      "cell_type": "markdown",
      "metadata": {
        "id": "0hoHSkI7Op88",
        "colab_type": "text"
      },
      "source": [
        "### 4.2.2 Silhouette Analyse"
      ]
    },
    {
      "cell_type": "code",
      "metadata": {
        "id": "y5TNSdyFLpGy",
        "colab_type": "code",
        "colab": {}
      },
      "source": [
        "# Documentation: https://scikit-learn.org/stable/auto_examples/cluster/plot_kmeans_silhouette_analysis.html\n",
        "def show_silhouette(dataframe):\n",
        "  '''Show silhouette for 2 to 10 clusters'''\n",
        "  range_n_clusters = range(2,11)\n",
        "  for n_clusters in range_n_clusters:\n",
        "    clusterer = KMeans (n_clusters=n_clusters)\n",
        "    preds = clusterer.fit_predict(dataframe)\n",
        "    centers = clusterer.cluster_centers_\n",
        "\n",
        "    score = silhouette_score (dataframe, preds, metric='euclidean')\n",
        "    print (\"For n_clusters = {}, silhouette score is {})\".format(n_clusters, score))"
      ],
      "execution_count": 0,
      "outputs": []
    },
    {
      "cell_type": "code",
      "metadata": {
        "id": "Z9IeHewjN2w2",
        "colab_type": "code",
        "outputId": "2fe81b96-52a4-4969-c3f9-2aae16786373",
        "colab": {
          "base_uri": "https://localhost:8080/",
          "height": 181
        }
      },
      "source": [
        "# Show Silhouette Score for original dataframe\n",
        "show_silhouette(df)"
      ],
      "execution_count": 0,
      "outputs": [
        {
          "output_type": "stream",
          "text": [
            "For n_clusters = 2, silhouette score is 0.29307334005502633)\n",
            "For n_clusters = 3, silhouette score is 0.383798873822341)\n",
            "For n_clusters = 4, silhouette score is 0.4052954330641215)\n",
            "For n_clusters = 5, silhouette score is 0.4440669204743008)\n",
            "For n_clusters = 6, silhouette score is 0.45206493204632353)\n",
            "For n_clusters = 7, silhouette score is 0.4409411333609709)\n",
            "For n_clusters = 8, silhouette score is 0.425945425758392)\n",
            "For n_clusters = 9, silhouette score is 0.4156856055749279)\n",
            "For n_clusters = 10, silhouette score is 0.379405876353367)\n"
          ],
          "name": "stdout"
        }
      ]
    },
    {
      "cell_type": "markdown",
      "metadata": {
        "id": "u9gfv4OIri38",
        "colab_type": "text"
      },
      "source": [
        "Verbesserte eine Reduzierung der Dimensionen die Silhouette der Cluster?"
      ]
    },
    {
      "cell_type": "code",
      "metadata": {
        "id": "HVMTwzHHZO42",
        "colab_type": "code",
        "outputId": "d707e7c0-cfc6-4f28-ebc6-e0d970fe0b5d",
        "colab": {
          "base_uri": "https://localhost:8080/",
          "height": 181
        }
      },
      "source": [
        "show_silhouette(df[['Annual_Income','Spending_Score']])"
      ],
      "execution_count": 0,
      "outputs": [
        {
          "output_type": "stream",
          "text": [
            "For n_clusters = 2, silhouette score is 0.2968969162503008)\n",
            "For n_clusters = 3, silhouette score is 0.46761358158775435)\n",
            "For n_clusters = 4, silhouette score is 0.4931963109249047)\n",
            "For n_clusters = 5, silhouette score is 0.553931997444648)\n",
            "For n_clusters = 6, silhouette score is 0.5379675585622219)\n",
            "For n_clusters = 7, silhouette score is 0.5288104473798049)\n",
            "For n_clusters = 8, silhouette score is 0.4583576977507227)\n",
            "For n_clusters = 9, silhouette score is 0.4537497748056438)\n",
            "For n_clusters = 10, silhouette score is 0.4416208208785718)\n"
          ],
          "name": "stdout"
        }
      ]
    },
    {
      "cell_type": "markdown",
      "metadata": {
        "id": "Gmvbb0zmKqDy",
        "colab_type": "text"
      },
      "source": [
        "### 4.3 Visualisierung"
      ]
    },
    {
      "cell_type": "code",
      "metadata": {
        "id": "AK5kZiyiyQ0e",
        "colab_type": "code",
        "colab": {}
      },
      "source": [
        "def show_kmeans_clustering(data,n_clusters,xlabel,ylabel):\n",
        "  '''K-Means Clustering. Number of clusters required'''\n",
        "  km = KMeans(n_clusters=n_clusters)\n",
        "  cluster = km.fit(data)\n",
        "  plt.scatter(data[:, 0], data[:, 1], label='Customer')\n",
        "  plt.scatter(cluster.cluster_centers_[:, 0], cluster.cluster_centers_[:, 1], label='Centroids')\n",
        "  plt.title('KMeans: {} Cluster'.format(n_clusters))\n",
        "  plt.xlabel(xlabel)\n",
        "  plt.ylabel(ylabel)\n",
        "  plt.legend()\n",
        "  return plt.show()\n",
        "                  "
      ],
      "execution_count": 0,
      "outputs": []
    },
    {
      "cell_type": "code",
      "metadata": {
        "id": "prtsX7PkXdFY",
        "colab_type": "code",
        "outputId": "f9144215-757e-48e8-8f2b-1ac9f7e057e1",
        "colab": {
          "base_uri": "https://localhost:8080/",
          "height": 295
        }
      },
      "source": [
        "# Five clusters achieve the highest silhouette score\n",
        "show_kmeans_clustering(df[['Annual_Income','Spending_Score']].values,5,'Annual income in k $', 'Spending Score')"
      ],
      "execution_count": 0,
      "outputs": [
        {
          "output_type": "display_data",
          "data": {
            "image/png": "[encoded data removed]",
            "text/plain": [
              "<Figure size 432x288 with 1 Axes>"
            ]
          },
          "metadata": {
            "tags": []
          }
        }
      ]
    },
    {
      "cell_type": "markdown",
      "metadata": {
        "id": "AH_IF-1zrvm4",
        "colab_type": "text"
      },
      "source": [
        "Können wir das Alter und Geschlecht mit einbeziehen und die Cluster Silhouette dennoch mittels PCA verbessern?"
      ]
    },
    {
      "cell_type": "markdown",
      "metadata": {
        "id": "TVXSO8V1KFTu",
        "colab_type": "text"
      },
      "source": [
        "### 4.4 Optimierung"
      ]
    },
    {
      "cell_type": "markdown",
      "metadata": {
        "id": "0CgWeiGE5A3S",
        "colab_type": "text"
      },
      "source": [
        "### 4.4.1 Principal Component Analysis (PCA)"
      ]
    },
    {
      "cell_type": "markdown",
      "metadata": {
        "id": "yb1jEv6aPBI9",
        "colab_type": "text"
      },
      "source": [
        "Wenn wir die Cluster visualisieren wollen, geschieht dies als Diagramm meist zwei- oder dreidimensional. In diesem Abschnitt wird der Datensatz mittels PCA auf zwei Dimensionen reduziert. "
      ]
    },
    {
      "cell_type": "code",
      "metadata": {
        "id": "cTkDaWCS3IzL",
        "colab_type": "code",
        "colab": {}
      },
      "source": [
        "def reduce_dimensions(dataframe,n_components):\n",
        "  '''Reduce dimensions for visualization. Requires number of dimensions as Parameter'''\n",
        "  pca_reducer = PCA(n_components=n_components)\n",
        "  return pca_reducer.fit_transform(dataframe)"
      ],
      "execution_count": 0,
      "outputs": []
    },
    {
      "cell_type": "code",
      "metadata": {
        "id": "BmLfNMxD3c95",
        "colab_type": "code",
        "colab": {}
      },
      "source": [
        "reduced_df_2d = reduce_dimensions(df,2)"
      ],
      "execution_count": 0,
      "outputs": []
    },
    {
      "cell_type": "code",
      "metadata": {
        "id": "VBAOs2O6VVl4",
        "colab_type": "code",
        "outputId": "445a640f-7052-4f76-ccc6-13fb21768730",
        "colab": {
          "base_uri": "https://localhost:8080/",
          "height": 181
        }
      },
      "source": [
        "# Show Silhouette Score after PCA\n",
        "show_silhouette(reduced_df_2d)"
      ],
      "execution_count": 0,
      "outputs": [
        {
          "output_type": "stream",
          "text": [
            "For n_clusters = 2, silhouette score is 0.3424931686350321)\n",
            "For n_clusters = 3, silhouette score is 0.4510533084363185)\n",
            "For n_clusters = 4, silhouette score is 0.49666554997066514)\n",
            "For n_clusters = 5, silhouette score is 0.5526264331833406)\n",
            "For n_clusters = 6, silhouette score is 0.5344483744329872)\n",
            "For n_clusters = 7, silhouette score is 0.5212199458305052)\n",
            "For n_clusters = 8, silhouette score is 0.4468858820617471)\n",
            "For n_clusters = 9, silhouette score is 0.4532204110299475)\n",
            "For n_clusters = 10, silhouette score is 0.4526054115657853)\n"
          ],
          "name": "stdout"
        }
      ]
    },
    {
      "cell_type": "markdown",
      "metadata": {
        "id": "2V6qSuSpwjdE",
        "colab_type": "text"
      },
      "source": [
        "Der Silhouette Wert für fünf Cluster wird minimal verbessert!"
      ]
    },
    {
      "cell_type": "code",
      "metadata": {
        "id": "OIgNLdheynmS",
        "colab_type": "code",
        "outputId": "5d9f14ed-6773-4fd2-d3c9-15e5fffd774b",
        "colab": {
          "base_uri": "https://localhost:8080/",
          "height": 295
        }
      },
      "source": [
        "show_kmeans_clustering(reduced_df_2d,5, 'Prinicipal Component 1','Principial Component 2')"
      ],
      "execution_count": 0,
      "outputs": [
        {
          "output_type": "display_data",
          "data": {
            "image/png": "[encoded data removed]",
            "text/plain": [
              "<Figure size 432x288 with 1 Axes>"
            ]
          },
          "metadata": {
            "tags": []
          }
        }
      ]
    },
    {
      "cell_type": "markdown",
      "metadata": {
        "id": "3QchjeqWxlEZ",
        "colab_type": "text"
      },
      "source": [
        "Können wir das Ergebnis noch durch verschiedene Normalisierungen noch verbessern?\n",
        "\n",
        "\n",
        "\n",
        "\n",
        "\n"
      ]
    },
    {
      "cell_type": "markdown",
      "metadata": {
        "id": "8pt2tGc0xCeD",
        "colab_type": "text"
      },
      "source": [
        "### 4.4.2 Normalisierung"
      ]
    },
    {
      "cell_type": "markdown",
      "metadata": {
        "id": "V6heNBBb0T10",
        "colab_type": "text"
      },
      "source": [
        "### 4.4.2.1 StandardScaler"
      ]
    },
    {
      "cell_type": "code",
      "metadata": {
        "id": "-oZqOizxQ0vM",
        "colab_type": "code",
        "colab": {}
      },
      "source": [
        "# More information: https://scikit-learn.org/stable/auto_examples/preprocessing/plot_scaling_importance.html\n",
        "def standard_scaler(dataframe):\n",
        "  '''Apply Standard Scaler on dataset'''\n",
        "  data = StandardScaler().fit_transform(dataframe)\n",
        "  df = pd.DataFrame({'Age': data[:, 0], 'Annual_Income': data[:, 1], 'Spending_Score': data[:, 2], 'Gender_Transformation': data[:, 3]})\n",
        "  return df"
      ],
      "execution_count": 0,
      "outputs": []
    },
    {
      "cell_type": "code",
      "metadata": {
        "id": "F4coj3vPRAl3",
        "colab_type": "code",
        "outputId": "63c7c2ec-cb37-4170-fb04-b484794ff5a6",
        "colab": {
          "base_uri": "https://localhost:8080/",
          "height": 198
        }
      },
      "source": [
        "df_standard_scaled = standard_scaler(df)\n",
        "df_standard_scaled.head(5)"
      ],
      "execution_count": 0,
      "outputs": [
        {
          "output_type": "execute_result",
          "data": {
            "text/html": [
              "<div>\n",
              "<style scoped>\n",
              "    .dataframe tbody tr th:only-of-type {\n",
              "        vertical-align: middle;\n",
              "    }\n",
              "\n",
              "    .dataframe tbody tr th {\n",
              "        vertical-align: top;\n",
              "    }\n",
              "\n",
              "    .dataframe thead th {\n",
              "        text-align: right;\n",
              "    }\n",
              "</style>\n",
              "<table border=\"1\" class=\"dataframe\">\n",
              "  <thead>\n",
              "    <tr style=\"text-align: right;\">\n",
              "      <th></th>\n",
              "      <th>Age</th>\n",
              "      <th>Annual_Income</th>\n",
              "      <th>Spending_Score</th>\n",
              "      <th>Gender_Transformation</th>\n",
              "    </tr>\n",
              "  </thead>\n",
              "  <tbody>\n",
              "    <tr>\n",
              "      <th>0</th>\n",
              "      <td>-1.424569</td>\n",
              "      <td>-1.738999</td>\n",
              "      <td>-0.434801</td>\n",
              "      <td>1.128152</td>\n",
              "    </tr>\n",
              "    <tr>\n",
              "      <th>1</th>\n",
              "      <td>-1.281035</td>\n",
              "      <td>-1.738999</td>\n",
              "      <td>1.195704</td>\n",
              "      <td>1.128152</td>\n",
              "    </tr>\n",
              "    <tr>\n",
              "      <th>2</th>\n",
              "      <td>-1.352802</td>\n",
              "      <td>-1.700830</td>\n",
              "      <td>-1.715913</td>\n",
              "      <td>-0.886405</td>\n",
              "    </tr>\n",
              "    <tr>\n",
              "      <th>3</th>\n",
              "      <td>-1.137502</td>\n",
              "      <td>-1.700830</td>\n",
              "      <td>1.040418</td>\n",
              "      <td>-0.886405</td>\n",
              "    </tr>\n",
              "    <tr>\n",
              "      <th>4</th>\n",
              "      <td>-0.563369</td>\n",
              "      <td>-1.662660</td>\n",
              "      <td>-0.395980</td>\n",
              "      <td>-0.886405</td>\n",
              "    </tr>\n",
              "  </tbody>\n",
              "</table>\n",
              "</div>"
            ],
            "text/plain": [
              "        Age  Annual_Income  Spending_Score  Gender_Transformation\n",
              "0 -1.424569      -1.738999       -0.434801               1.128152\n",
              "1 -1.281035      -1.738999        1.195704               1.128152\n",
              "2 -1.352802      -1.700830       -1.715913              -0.886405\n",
              "3 -1.137502      -1.700830        1.040418              -0.886405\n",
              "4 -0.563369      -1.662660       -0.395980              -0.886405"
            ]
          },
          "metadata": {
            "tags": []
          },
          "execution_count": 76
        }
      ]
    },
    {
      "cell_type": "code",
      "metadata": {
        "id": "qDFBEB2qtAgF",
        "colab_type": "code",
        "outputId": "098aa9b8-0024-4c06-eb5f-2ffc90e58cc7",
        "colab": {
          "base_uri": "https://localhost:8080/",
          "height": 181
        }
      },
      "source": [
        "show_silhouette(df_standard_scaled[['Annual_Income','Spending_Score']])"
      ],
      "execution_count": 0,
      "outputs": [
        {
          "output_type": "stream",
          "text": [
            "For n_clusters = 2, silhouette score is 0.28953270137686243)\n",
            "For n_clusters = 3, silhouette score is 0.46658474419000145)\n",
            "For n_clusters = 4, silhouette score is 0.4939069237513199)\n",
            "For n_clusters = 5, silhouette score is 0.5546571631111091)\n",
            "For n_clusters = 6, silhouette score is 0.5398800926790663)\n",
            "For n_clusters = 7, silhouette score is 0.5281492781108291)\n",
            "For n_clusters = 8, silhouette score is 0.45330041196473286)\n",
            "For n_clusters = 9, silhouette score is 0.4566624374485964)\n",
            "For n_clusters = 10, silhouette score is 0.4455980500899635)\n"
          ],
          "name": "stdout"
        }
      ]
    },
    {
      "cell_type": "markdown",
      "metadata": {
        "id": "QU1U0cT0x7uS",
        "colab_type": "text"
      },
      "source": [
        "Die Silhouette wird durch die Standardskalierung bei fünf Clustern weiterhin verbessert!"
      ]
    },
    {
      "cell_type": "code",
      "metadata": {
        "id": "I6BmEGVntRYL",
        "colab_type": "code",
        "outputId": "edc8a01a-c96a-4c4f-fe00-590b52820732",
        "colab": {
          "base_uri": "https://localhost:8080/",
          "height": 295
        }
      },
      "source": [
        "show_kmeans_clustering(df_standard_scaled[['Annual_Income','Spending_Score']].values,5,'Annual Income standard scaled', 'Spending Score standard scaled')"
      ],
      "execution_count": 0,
      "outputs": [
        {
          "output_type": "display_data",
          "data": {
            "image/png": "[encoded data removed]",
            "text/plain": [
              "<Figure size 432x288 with 1 Axes>"
            ]
          },
          "metadata": {
            "tags": []
          }
        }
      ]
    },
    {
      "cell_type": "markdown",
      "metadata": {
        "id": "aH9bTAs70uIS",
        "colab_type": "text"
      },
      "source": [
        "### 4.4.2.2 MinMaxScaler"
      ]
    },
    {
      "cell_type": "code",
      "metadata": {
        "id": "xOhxTlW90xUl",
        "colab_type": "code",
        "colab": {}
      },
      "source": [
        "def minmax_scaler(dataframe):\n",
        "  '''Apply MinMax Scaler on dataset'''\n",
        "  data = MinMaxScaler().fit_transform(dataframe)\n",
        "  df = pd.DataFrame({'Age': data[:, 0], 'Annual_Income': data[:, 1], 'Spending_Score': data[:, 2], 'Gender_Transformation': data[:, 3]})\n",
        "  return df"
      ],
      "execution_count": 0,
      "outputs": []
    },
    {
      "cell_type": "code",
      "metadata": {
        "id": "ktXnLLcB1H9g",
        "colab_type": "code",
        "outputId": "fd10e33e-a21e-4776-a97d-0715e403ef8e",
        "colab": {
          "base_uri": "https://localhost:8080/",
          "height": 198
        }
      },
      "source": [
        "df_minmax_scaled = minmax_scaler(df)\n",
        "df_minmax_scaled.head(5)"
      ],
      "execution_count": 0,
      "outputs": [
        {
          "output_type": "execute_result",
          "data": {
            "text/html": [
              "<div>\n",
              "<style scoped>\n",
              "    .dataframe tbody tr th:only-of-type {\n",
              "        vertical-align: middle;\n",
              "    }\n",
              "\n",
              "    .dataframe tbody tr th {\n",
              "        vertical-align: top;\n",
              "    }\n",
              "\n",
              "    .dataframe thead th {\n",
              "        text-align: right;\n",
              "    }\n",
              "</style>\n",
              "<table border=\"1\" class=\"dataframe\">\n",
              "  <thead>\n",
              "    <tr style=\"text-align: right;\">\n",
              "      <th></th>\n",
              "      <th>Age</th>\n",
              "      <th>Annual_Income</th>\n",
              "      <th>Spending_Score</th>\n",
              "      <th>Gender_Transformation</th>\n",
              "    </tr>\n",
              "  </thead>\n",
              "  <tbody>\n",
              "    <tr>\n",
              "      <th>0</th>\n",
              "      <td>0.019231</td>\n",
              "      <td>0.000000</td>\n",
              "      <td>0.387755</td>\n",
              "      <td>1.0</td>\n",
              "    </tr>\n",
              "    <tr>\n",
              "      <th>1</th>\n",
              "      <td>0.057692</td>\n",
              "      <td>0.000000</td>\n",
              "      <td>0.816327</td>\n",
              "      <td>1.0</td>\n",
              "    </tr>\n",
              "    <tr>\n",
              "      <th>2</th>\n",
              "      <td>0.038462</td>\n",
              "      <td>0.008197</td>\n",
              "      <td>0.051020</td>\n",
              "      <td>0.0</td>\n",
              "    </tr>\n",
              "    <tr>\n",
              "      <th>3</th>\n",
              "      <td>0.096154</td>\n",
              "      <td>0.008197</td>\n",
              "      <td>0.775510</td>\n",
              "      <td>0.0</td>\n",
              "    </tr>\n",
              "    <tr>\n",
              "      <th>4</th>\n",
              "      <td>0.250000</td>\n",
              "      <td>0.016393</td>\n",
              "      <td>0.397959</td>\n",
              "      <td>0.0</td>\n",
              "    </tr>\n",
              "  </tbody>\n",
              "</table>\n",
              "</div>"
            ],
            "text/plain": [
              "        Age  Annual_Income  Spending_Score  Gender_Transformation\n",
              "0  0.019231       0.000000        0.387755                    1.0\n",
              "1  0.057692       0.000000        0.816327                    1.0\n",
              "2  0.038462       0.008197        0.051020                    0.0\n",
              "3  0.096154       0.008197        0.775510                    0.0\n",
              "4  0.250000       0.016393        0.397959                    0.0"
            ]
          },
          "metadata": {
            "tags": []
          },
          "execution_count": 79
        }
      ]
    },
    {
      "cell_type": "code",
      "metadata": {
        "id": "BUx7qjIf1Qed",
        "colab_type": "code",
        "outputId": "485495c7-bd00-4d9b-960f-e1739900b938",
        "colab": {
          "base_uri": "https://localhost:8080/",
          "height": 181
        }
      },
      "source": [
        "show_silhouette(df_minmax_scaled[['Annual_Income','Spending_Score']])"
      ],
      "execution_count": 0,
      "outputs": [
        {
          "output_type": "stream",
          "text": [
            "For n_clusters = 2, silhouette score is 0.33340205479521)\n",
            "For n_clusters = 3, silhouette score is 0.4514909309424474)\n",
            "For n_clusters = 4, silhouette score is 0.49620078745146784)\n",
            "For n_clusters = 5, silhouette score is 0.5594854531227246)\n",
            "For n_clusters = 6, silhouette score is 0.535817696916733)\n",
            "For n_clusters = 7, silhouette score is 0.5185859609857723)\n",
            "For n_clusters = 8, silhouette score is 0.4322805234768182)\n",
            "For n_clusters = 9, silhouette score is 0.44188172065332326)\n",
            "For n_clusters = 10, silhouette score is 0.439283997350404)\n"
          ],
          "name": "stdout"
        }
      ]
    },
    {
      "cell_type": "markdown",
      "metadata": {
        "id": "sJZdWME51_hR",
        "colab_type": "text"
      },
      "source": [
        "Die MinMax-Skalierung verbessert den Score bei fünf Clustern! Zu beachten ist, dass der MinMax Scaler sehr anfällig bei Ausreißern ist."
      ]
    },
    {
      "cell_type": "code",
      "metadata": {
        "id": "QqhbDziF1YrG",
        "colab_type": "code",
        "outputId": "f1a38ab5-242f-4e57-dd81-77848bc341b4",
        "colab": {
          "base_uri": "https://localhost:8080/",
          "height": 295
        }
      },
      "source": [
        "show_kmeans_clustering(df_minmax_scaled[['Annual_Income','Spending_Score']].values,5,'Annual Income minmax scaled', 'Spending Score minmax scaled')"
      ],
      "execution_count": 0,
      "outputs": [
        {
          "output_type": "display_data",
          "data": {
            "image/png": "[encoded data removed]",
            "text/plain": [
              "<Figure size 432x288 with 1 Axes>"
            ]
          },
          "metadata": {
            "tags": []
          }
        }
      ]
    },
    {
      "cell_type": "markdown",
      "metadata": {
        "id": "K3C9R1Qq1ynw",
        "colab_type": "text"
      },
      "source": [
        "### 4.4.2.3 RobustScaler"
      ]
    },
    {
      "cell_type": "code",
      "metadata": {
        "id": "-KMjrOnh1scw",
        "colab_type": "code",
        "colab": {}
      },
      "source": [
        "def robust_scaler(dataframe):\n",
        "  '''Apply Robust Scaler on dataset'''\n",
        "  data = RobustScaler().fit_transform(dataframe)\n",
        "  df = pd.DataFrame({'Age': data[:, 0], 'Annual_Income': data[:, 1], 'Spending_Score': data[:, 2], 'Gender_Transformation': data[:, 3]})\n",
        "  return df"
      ],
      "execution_count": 0,
      "outputs": []
    },
    {
      "cell_type": "code",
      "metadata": {
        "id": "log0sRaM2lDr",
        "colab_type": "code",
        "outputId": "59a9b589-3b6c-46a9-f377-2b809799b760",
        "colab": {
          "base_uri": "https://localhost:8080/",
          "height": 198
        }
      },
      "source": [
        "df_robust_scaled = robust_scaler(df)\n",
        "df_robust_scaled.head(5)"
      ],
      "execution_count": 0,
      "outputs": [
        {
          "output_type": "execute_result",
          "data": {
            "text/html": [
              "<div>\n",
              "<style scoped>\n",
              "    .dataframe tbody tr th:only-of-type {\n",
              "        vertical-align: middle;\n",
              "    }\n",
              "\n",
              "    .dataframe tbody tr th {\n",
              "        vertical-align: top;\n",
              "    }\n",
              "\n",
              "    .dataframe thead th {\n",
              "        text-align: right;\n",
              "    }\n",
              "</style>\n",
              "<table border=\"1\" class=\"dataframe\">\n",
              "  <thead>\n",
              "    <tr style=\"text-align: right;\">\n",
              "      <th></th>\n",
              "      <th>Age</th>\n",
              "      <th>Annual_Income</th>\n",
              "      <th>Spending_Score</th>\n",
              "      <th>Gender_Transformation</th>\n",
              "    </tr>\n",
              "  </thead>\n",
              "  <tbody>\n",
              "    <tr>\n",
              "      <th>0</th>\n",
              "      <td>-0.839506</td>\n",
              "      <td>-1.273973</td>\n",
              "      <td>-0.287582</td>\n",
              "      <td>1.0</td>\n",
              "    </tr>\n",
              "    <tr>\n",
              "      <th>1</th>\n",
              "      <td>-0.740741</td>\n",
              "      <td>-1.273973</td>\n",
              "      <td>0.810458</td>\n",
              "      <td>1.0</td>\n",
              "    </tr>\n",
              "    <tr>\n",
              "      <th>2</th>\n",
              "      <td>-0.790123</td>\n",
              "      <td>-1.246575</td>\n",
              "      <td>-1.150327</td>\n",
              "      <td>0.0</td>\n",
              "    </tr>\n",
              "    <tr>\n",
              "      <th>3</th>\n",
              "      <td>-0.641975</td>\n",
              "      <td>-1.246575</td>\n",
              "      <td>0.705882</td>\n",
              "      <td>0.0</td>\n",
              "    </tr>\n",
              "    <tr>\n",
              "      <th>4</th>\n",
              "      <td>-0.246914</td>\n",
              "      <td>-1.219178</td>\n",
              "      <td>-0.261438</td>\n",
              "      <td>0.0</td>\n",
              "    </tr>\n",
              "  </tbody>\n",
              "</table>\n",
              "</div>"
            ],
            "text/plain": [
              "        Age  Annual_Income  Spending_Score  Gender_Transformation\n",
              "0 -0.839506      -1.273973       -0.287582                    1.0\n",
              "1 -0.740741      -1.273973        0.810458                    1.0\n",
              "2 -0.790123      -1.246575       -1.150327                    0.0\n",
              "3 -0.641975      -1.246575        0.705882                    0.0\n",
              "4 -0.246914      -1.219178       -0.261438                    0.0"
            ]
          },
          "metadata": {
            "tags": []
          },
          "execution_count": 89
        }
      ]
    },
    {
      "cell_type": "code",
      "metadata": {
        "id": "dGQN8UbF22vU",
        "colab_type": "code",
        "outputId": "24f44378-945a-4e63-b693-e8c491ab716e",
        "colab": {
          "base_uri": "https://localhost:8080/",
          "height": 181
        }
      },
      "source": [
        "show_silhouette(df_robust_scaled[['Annual_Income','Spending_Score']])"
      ],
      "execution_count": 0,
      "outputs": [
        {
          "output_type": "stream",
          "text": [
            "For n_clusters = 2, silhouette score is 0.3967530428722762)\n",
            "For n_clusters = 3, silhouette score is 0.47029393594847796)\n",
            "For n_clusters = 4, silhouette score is 0.4909840957730004)\n",
            "For n_clusters = 5, silhouette score is 0.5516518249155914)\n",
            "For n_clusters = 6, silhouette score is 0.5390883548184416)\n",
            "For n_clusters = 7, silhouette score is 0.5284566885380275)\n",
            "For n_clusters = 8, silhouette score is 0.4623527108853179)\n",
            "For n_clusters = 9, silhouette score is 0.43692468023265013)\n",
            "For n_clusters = 10, silhouette score is 0.4504277733366838)\n"
          ],
          "name": "stdout"
        }
      ]
    },
    {
      "cell_type": "code",
      "metadata": {
        "id": "hBA2LmDF29QK",
        "colab_type": "code",
        "outputId": "d9112a4b-e6b0-4822-e11e-66e4097a030c",
        "colab": {
          "base_uri": "https://localhost:8080/",
          "height": 295
        }
      },
      "source": [
        "show_kmeans_clustering(df_robust_scaled[['Annual_Income','Spending_Score']].values,5,'Annual Income robust scaled', 'Spending Score robust scaled')"
      ],
      "execution_count": 0,
      "outputs": [
        {
          "output_type": "display_data",
          "data": {
            "image/png": "[encoded data removed]",
            "text/plain": [
              "<Figure size 432x288 with 1 Axes>"
            ]
          },
          "metadata": {
            "tags": []
          }
        }
      ]
    },
    {
      "cell_type": "markdown",
      "metadata": {
        "id": "3nXCCnhf3FvY",
        "colab_type": "text"
      },
      "source": [
        "Eine Normalisierung mittels RobustScaler() minimiert die Silhouette für fünf Cluster."
      ]
    },
    {
      "cell_type": "markdown",
      "metadata": {
        "id": "yIq729ZT4aFK",
        "colab_type": "text"
      },
      "source": [
        "# 5 Fazit"
      ]
    },
    {
      "cell_type": "markdown",
      "metadata": {
        "id": "M5H3SLu94clo",
        "colab_type": "text"
      },
      "source": [
        "## 5.1 Clustering\n",
        "\n",
        "Für das Clustering der Kunden empfiehlt sich der Zusammenhang zwischen dem jährlichen Einkommen und der internen Bewertung mittels des Spending Scores. Insgesamt können die Konsumenten in fünf Cluster eingeordnet werden:\n",
        "\n",
        "\n",
        "1.   Niedriges Einkommen und niedriger Spending Score\n",
        "2.   Niedriges Einkommen und hoher Spending Score\n",
        "3.   Mittleres Einkomen und mittlerer Spending Score\n",
        "4.   Hohes Einkommen und niedriger Spending Score\n",
        "5.   Hohes Einkommen und hoher Spending Score\n",
        "\n",
        "Das Geschlecht und Alter hat für das Clustering minimale Implikationen. Betrachten wir aber beispielsweise je nach Geschlecht die Altersverteilung, werden Unterschiede deutlich: Es existieren mehr Kundendaten bei Frauen im Alter von dreißig Jahren als bei Männern. Auch die Verteilung des Einkommens und der Spending Score verhält sich je nach Geschlecht unterschiedlich (siehe 3.2).\n",
        "\n",
        "\n",
        "\n"
      ]
    },
    {
      "cell_type": "markdown",
      "metadata": {
        "id": "SY6EJleE6Z-z",
        "colab_type": "text"
      },
      "source": [
        "## 5.2 Optimierung\n",
        "Die Principal Component Analyse erbringt minimale Verbesserungen. Dies deckt sich mit den Erfahrungen aus 5.1, dass Alter und Geschlecht wenig Einfluss auf das Clustering hat. Darüber hinaus ist die Auswahl verschiedener Normalisierungstechniken von Vorteil (4.4.2)"
      ]
    },
    {
      "cell_type": "markdown",
      "metadata": {
        "id": "XFooEZlW7fl5",
        "colab_type": "text"
      },
      "source": [
        "## 5.3 Geschäftsimplikationen\n",
        "\n",
        "Mit den Erfahrungen aus der multivariaten Analyse (3.2) und dem Clustering (4) ist es möglich, Kunden zu klassifizieren und zielgerichetet anzusprechen. Weiterhin ist es möglich potenzielle Kunden einzuschätzen und das Marketing auf vielversprechendes Klientel hin auszurichten. Somit wird nicht nur die Beziehung zu Bestandskunden intensiviert, sondern auch Neukundenakquise intelligent betrieben."
      ]
    }
  ]
}